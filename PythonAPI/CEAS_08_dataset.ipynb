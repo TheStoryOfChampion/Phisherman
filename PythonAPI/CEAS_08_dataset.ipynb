{
 "cells": [
  {
   "cell_type": "code",
   "execution_count": 1,
   "metadata": {},
   "outputs": [
    {
     "name": "stdout",
     "output_type": "stream",
     "text": [
      "Columns: Index(['sender', 'receiver', 'date', 'subject', 'body', 'label', 'urls'], dtype='object')\n",
      "Label distribution:\n",
      " 1    21842\n",
      "0    17312\n",
      "Name: label, dtype: int64\n",
      "              precision    recall  f1-score   support\n",
      "\n",
      "           0       0.99      0.99      0.99      3490\n",
      "           1       0.99      0.99      0.99      4341\n",
      "\n",
      "    accuracy                           0.99      7831\n",
      "   macro avg       0.99      0.99      0.99      7831\n",
      "weighted avg       0.99      0.99      0.99      7831\n",
      "\n",
      "✅ Trained and saved model and vectorizer successfully!\n"
     ]
    }
   ],
   "source": [
    "import pandas as pd\n",
    "import pickle\n",
    "from sklearn.model_selection import train_test_split\n",
    "from sklearn.feature_extraction.text import TfidfVectorizer\n",
    "from sklearn.linear_model import LogisticRegression\n",
    "from sklearn.metrics import classification_report\n",
    "\n",
    "# 1. Load the CEAS_08 dataset\n",
    "df = pd.read_csv(\"CEAS_08.csv\", encoding='latin1')  # Change filename if different\n",
    "\n",
    "# 2. Check and rename relevant columns\n",
    "print(\"Columns:\", df.columns)\n",
    "df.columns = [col.strip().lower() for col in df.columns]\n",
    "\n",
    "# Assume relevant columns are 'text' and 'label'\n",
    "if 'text' not in df.columns or 'label' not in df.columns:\n",
    "    # Try auto-detecting likely columns\n",
    "    for col in df.columns:\n",
    "        if 'body' in col or 'text' in col:\n",
    "            df.rename(columns={col: 'text'}, inplace=True)\n",
    "        elif 'label' in col or 'class' in col:\n",
    "            df.rename(columns={col: 'label'}, inplace=True)\n",
    "\n",
    "# 3. Clean and filter the dataset\n",
    "df.dropna(subset=['text', 'label'], inplace=True)\n",
    "\n",
    "# If labels are strings like \"Phishing\"/\"Legitimate\", map to binary\n",
    "if df['label'].dtype == 'object':\n",
    "    df['label'] = df['label'].str.lower().map({'phishing': 1, 'legitimate': 0, 'spam': 1})\n",
    "    df.dropna(subset=['label'], inplace=True)\n",
    "\n",
    "print(\"Label distribution:\\n\", df['label'].value_counts())\n",
    "\n",
    "# 4. Train/test split\n",
    "X_train, X_test, y_train, y_test = train_test_split(df['text'], df['label'], test_size=0.2, random_state=42)\n",
    "\n",
    "# 5. Vectorization\n",
    "vectorizer = TfidfVectorizer(stop_words='english', max_features=5000)\n",
    "X_train_vec = vectorizer.fit_transform(X_train)\n",
    "X_test_vec = vectorizer.transform(X_test)\n",
    "\n",
    "# 6. Model training\n",
    "model = LogisticRegression()\n",
    "model.fit(X_train_vec, y_train)\n",
    "\n",
    "# 7. Evaluation\n",
    "y_pred = model.predict(X_test_vec)\n",
    "print(classification_report(y_test, y_pred))\n",
    "\n",
    "# 8. Save model and vectorizer\n",
    "with open(\"CEAS_detector.pkl\", \"wb\") as f:\n",
    "    pickle.dump(model, f)\n",
    "\n",
    "with open(\"CEAS_vectorizer.pkl\", \"wb\") as f:\n",
    "    pickle.dump(vectorizer, f)\n",
    "\n",
    "print(\"✅ Trained and saved model and vectorizer successfully!\")\n"
   ]
  },
  {
   "cell_type": "code",
   "execution_count": 2,
   "metadata": {},
   "outputs": [
    {
     "name": "stdout",
     "output_type": "stream",
     "text": [
      "Prediction: Phishing\n",
      "Confidence: 74.68 %\n"
     ]
    }
   ],
   "source": [
    "# Load them back to verify they are fitted\n",
    "with open(\"CEAS_vectorizer.pkl\", \"rb\") as f:\n",
    "    loaded_vectorizer = pickle.load(f)\n",
    "\n",
    "with open(\"CEAS_detector.pkl\", \"rb\") as f:\n",
    "    loaded_model = pickle.load(f)\n",
    "\n",
    "# Try a test email\n",
    "test_email = \"Your account has been locked. Click here to verify.\"\n",
    "X_input = loaded_vectorizer.transform([test_email])\n",
    "pred = loaded_model.predict(X_input)\n",
    "proba = loaded_model.predict_proba(X_input)\n",
    "\n",
    "print(\"Prediction:\", \"Phishing\" if pred[0] == 1 else \"Legitimate\")\n",
    "print(\"Confidence:\", round(max(proba[0]) * 100, 2), \"%\")\n"
   ]
  },
  {
   "cell_type": "code",
   "execution_count": null,
   "metadata": {},
   "outputs": [],
   "source": []
  }
 ],
 "metadata": {
  "kernelspec": {
   "display_name": "Python 3",
   "language": "python",
   "name": "python3"
  },
  "language_info": {
   "codemirror_mode": {
    "name": "ipython",
    "version": 3
   },
   "file_extension": ".py",
   "mimetype": "text/x-python",
   "name": "python",
   "nbconvert_exporter": "python",
   "pygments_lexer": "ipython3",
   "version": "3.8.5"
  }
 },
 "nbformat": 4,
 "nbformat_minor": 4
}
