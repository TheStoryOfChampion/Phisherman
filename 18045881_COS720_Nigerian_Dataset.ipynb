{
 "cells": [
  {
   "cell_type": "code",
   "execution_count": 1,
   "metadata": {},
   "outputs": [
    {
     "name": "stdout",
     "output_type": "stream",
     "text": [
      "                                           sender              receiver  \\\n",
      "0  MR. JAMES NGOLA. <james_ngola2002@maktoob.com>  webmaster@aclweb.org   \n",
      "1  Mr. Ben Suleman <bensul2004nng@spinfinder.com>                   R@M   \n",
      "2       PRINCE OBONG ELEME <obong_715@epatra.com>  webmaster@aclweb.org   \n",
      "3       PRINCE OBONG ELEME <obong_715@epatra.com>  webmaster@aclweb.org   \n",
      "4              Maryam Abacha <m_abacha03@www.com>                   R@M   \n",
      "\n",
      "                              date  \\\n",
      "0  Thu, 31 Oct 2002 02:38:20 +0000   \n",
      "1  Thu, 31 Oct 2002 05:10:00 -0000   \n",
      "2  Thu, 31 Oct 2002 22:17:55 +0100   \n",
      "3  Thu, 31 Oct 2002 22:44:20 -0000   \n",
      "4  Fri, 01 Nov 2002 01:45:04 +0100   \n",
      "\n",
      "                                      subject  \\\n",
      "0  URGENT BUSINESS ASSISTANCE AND PARTNERSHIP   \n",
      "1         URGENT ASSISTANCE /RELATIONSHIP (P)   \n",
      "2                             GOOD DAY TO YOU   \n",
      "3                             GOOD DAY TO YOU   \n",
      "4                     I Need Your Assistance.   \n",
      "\n",
      "                                                body  urls  label  \n",
      "0  FROM:MR. JAMES NGOLA.\\nCONFIDENTIAL TEL: 233-2...     0      1  \n",
      "1  Dear Friend,\\n\\nI am Mr. Ben Suleman a custom ...     0      1  \n",
      "2  FROM HIS ROYAL MAJESTY (HRM) CROWN RULER OF EL...     0      1  \n",
      "3  FROM HIS ROYAL MAJESTY (HRM) CROWN RULER OF EL...     0      1  \n",
      "4  Dear sir, \\n \\nIt is with a heart full of hope...     0      1  \n"
     ]
    }
   ],
   "source": [
    "import pandas as pd\n",
    "\n",
    "df = pd.read_csv('Nigerian_Fraud.csv')\n",
    "print(df.head())"
   ]
  },
  {
   "cell_type": "code",
   "execution_count": 2,
   "metadata": {},
   "outputs": [
    {
     "name": "stdout",
     "output_type": "stream",
     "text": [
      "sender       331\n",
      "receiver    1324\n",
      "date         482\n",
      "subject       39\n",
      "body           0\n",
      "urls           0\n",
      "label          0\n",
      "dtype: int64\n"
     ]
    }
   ],
   "source": [
    "print(df.isnull().sum())"
   ]
  },
  {
   "cell_type": "code",
   "execution_count": 3,
   "metadata": {},
   "outputs": [],
   "source": [
    "df = df.dropna()"
   ]
  },
  {
   "cell_type": "code",
   "execution_count": 4,
   "metadata": {},
   "outputs": [
    {
     "name": "stdout",
     "output_type": "stream",
     "text": [
      "sender      0\n",
      "receiver    0\n",
      "date        0\n",
      "subject     0\n",
      "body        0\n",
      "urls        0\n",
      "label       0\n",
      "dtype: int64\n"
     ]
    }
   ],
   "source": [
    "print(df.isnull().sum())"
   ]
  },
  {
   "cell_type": "code",
   "execution_count": 5,
   "metadata": {},
   "outputs": [
    {
     "name": "stdout",
     "output_type": "stream",
     "text": [
      "1    1572\n",
      "Name: label, dtype: int64\n"
     ]
    }
   ],
   "source": [
    "print(df['label'].value_counts())"
   ]
  },
  {
   "cell_type": "code",
   "execution_count": null,
   "metadata": {},
   "outputs": [],
   "source": []
  }
 ],
 "metadata": {
  "kernelspec": {
   "display_name": "Python 3",
   "language": "python",
   "name": "python3"
  },
  "language_info": {
   "codemirror_mode": {
    "name": "ipython",
    "version": 3
   },
   "file_extension": ".py",
   "mimetype": "text/x-python",
   "name": "python",
   "nbconvert_exporter": "python",
   "pygments_lexer": "ipython3",
   "version": "3.8.5"
  }
 },
 "nbformat": 4,
 "nbformat_minor": 4
}
