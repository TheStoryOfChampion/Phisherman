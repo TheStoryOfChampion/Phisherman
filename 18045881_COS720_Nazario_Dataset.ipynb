{
 "cells": [
  {
   "cell_type": "code",
   "execution_count": 1,
   "metadata": {},
   "outputs": [
    {
     "name": "stdout",
     "output_type": "stream",
     "text": [
      "                                              sender  \\\n",
      "0  Mail System Internal Data <MAILER-DAEMON@monke...   \n",
      "1                        cPanel <service@cpanel.com>   \n",
      "2    Microsoft Outlook <recepcao@unimedceara.com.br>   \n",
      "3                     Ann Garcia <AnGarcia@mcoe.org>   \n",
      "4                 \"USAA\" <usaaacctupdate@sccu4u.com>   \n",
      "\n",
      "                                 receiver  \\\n",
      "0                                     NaN   \n",
      "1                         jose@monkey.org   \n",
      "2                                     NaN   \n",
      "3     \"info@maaaaa.org\" <info@maaaaa.org>   \n",
      "4  Recipients <usaaacctupdate@sccu4u.com>   \n",
      "\n",
      "                                    date  \\\n",
      "0             28 Sep 2017 09:57:25 -0400   \n",
      "1        Fri, 30 Oct 2015 00:00:48 -0500   \n",
      "2  Fri, 30 Oct 2015 06:21:59 -0300 (BRT)   \n",
      "3        Fri, 30 Oct 2015 14:54:33 +0000   \n",
      "4        Fri, 30 Oct 2015 14:02:33 -0500   \n",
      "\n",
      "                                             subject  \\\n",
      "0  DON'T DELETE THIS MESSAGE -- FOLDER INTERNAL DATA   \n",
      "1                                Verify Your Account   \n",
      "2                          Helpdesk Mailbox Alert!!!   \n",
      "3                               IT-Service Help Desk   \n",
      "4      Final USAA Reminder - Update Your Account Now   \n",
      "\n",
      "                                                body  urls  label  \n",
      "0  This text is part of the internal format of yo...     1      1  \n",
      "1  Business with  \\t\\t\\t\\t\\t\\t\\t\\tcPanel & WHM \\t...     1      1  \n",
      "2  Your two incoming mails were placed on pending...     1      1  \n",
      "3  Password will expire in 3 days. Click Here To ...     0      1  \n",
      "4  To ensure delivery to your inbox, please add U...     1      1  \n"
     ]
    }
   ],
   "source": [
    "import pandas as pd\n",
    "\n",
    "df = pd.read_csv('Nazario.csv')\n",
    "print(df.head())"
   ]
  },
  {
   "cell_type": "code",
   "execution_count": 2,
   "metadata": {},
   "outputs": [
    {
     "name": "stdout",
     "output_type": "stream",
     "text": [
      "sender       0\n",
      "receiver    96\n",
      "date         1\n",
      "subject      4\n",
      "body         0\n",
      "urls         0\n",
      "label        0\n",
      "dtype: int64\n"
     ]
    }
   ],
   "source": [
    "print(df.isnull().sum())"
   ]
  },
  {
   "cell_type": "code",
   "execution_count": 3,
   "metadata": {},
   "outputs": [],
   "source": [
    "df = df.dropna()"
   ]
  },
  {
   "cell_type": "code",
   "execution_count": 4,
   "metadata": {},
   "outputs": [
    {
     "name": "stdout",
     "output_type": "stream",
     "text": [
      "sender      0\n",
      "receiver    0\n",
      "date        0\n",
      "subject     0\n",
      "body        0\n",
      "urls        0\n",
      "label       0\n",
      "dtype: int64\n"
     ]
    }
   ],
   "source": [
    "print(df.isnull().sum())"
   ]
  },
  {
   "cell_type": "code",
   "execution_count": 5,
   "metadata": {},
   "outputs": [
    {
     "name": "stdout",
     "output_type": "stream",
     "text": [
      "1    1467\n",
      "Name: label, dtype: int64\n"
     ]
    }
   ],
   "source": [
    "print(df['label'].value_counts())"
   ]
  },
  {
   "cell_type": "code",
   "execution_count": null,
   "metadata": {},
   "outputs": [],
   "source": []
  }
 ],
 "metadata": {
  "kernelspec": {
   "display_name": "Python 3",
   "language": "python",
   "name": "python3"
  },
  "language_info": {
   "codemirror_mode": {
    "name": "ipython",
    "version": 3
   },
   "file_extension": ".py",
   "mimetype": "text/x-python",
   "name": "python",
   "nbconvert_exporter": "python",
   "pygments_lexer": "ipython3",
   "version": "3.8.5"
  }
 },
 "nbformat": 4,
 "nbformat_minor": 4
}
